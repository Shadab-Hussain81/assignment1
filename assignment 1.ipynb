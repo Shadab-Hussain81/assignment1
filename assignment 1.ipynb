{
 "cells": [
  {
   "cell_type": "markdown",
   "id": "f13ff02d-76ad-4908-9293-2b6d6ae6f979",
   "metadata": {},
   "source": [
    "Q 1.# in the below elemnts which of them are values or an expression ?eg:-values can be integer or string and expression will be mathematical operators\n",
    "* \n",
    "hello\n",
    "-8.78\n",
    "-\n",
    "/\n",
    "+\n",
    "6"
   ]
  },
  {
   "cell_type": "markdown",
   "id": "e90a0043-b008-4127-9576-6c1746aa7d3e",
   "metadata": {},
   "source": [
    "Ans values:\n",
    "    \"hello\"(string value)\n",
    "    -8.78(floating value)\n",
    "    -(substraction)\n",
    "    /(division)\n",
    "    +(add)\n",
    "    6(integer value)\n",
    "    "
   ]
  },
  {
   "cell_type": "markdown",
   "id": "9f110eeb-6c9f-471e-af93-f00adcd741cd",
   "metadata": {},
   "source": [
    "Q 2.what is the  difference string and varible?"
   ]
  },
  {
   "cell_type": "markdown",
   "id": "0149a8f8-2d9d-447b-9982-489db19b1397",
   "metadata": {},
   "source": [
    "Ans string are typically enclosed in quotation marks like \"hello world\"or this is string can  contain letters,digits,sumbols,and whitespace characters.\n",
    "varible: a variable is a named container that holds a values .it is used to store and maipulate data within a program .varible can hold various type of data such as number,characters .variable can change throughout the execution of a program"
   ]
  },
  {
   "cell_type": "markdown",
   "id": "33a4d3bc-cba9-4790-8a70-8398fa67b5b0",
   "metadata": {},
   "source": [
    "Q3. describe three different datatypes."
   ]
  },
  {
   "cell_type": "markdown",
   "id": "d152b3a7-922d-489a-a39b-6471c4043bb1",
   "metadata": {},
   "source": [
    "Ans (a)Integer(int):An integer is a data type that reperesnts whole number without any fractional or decimal parts.it can be either positive or negative .ex 5,-5,0,42\n",
    "(b)string : a strings are  usually enclosed in quotation marks ,either single (\")or double(\"\").ex \"helloworld\"\n",
    " (c)float : the float data type represents a floating point or decimal number. example 0.1243 and 12.245                                                                              \n",
    "                                                                           "
   ]
  },
  {
   "cell_type": "markdown",
   "id": "e789611e-07f5-4ad9-80b9-b433d579ab1e",
   "metadata": {},
   "source": [
    "Q4.what is an expression made up of ?what do all expressions do?"
   ]
  },
  {
   "cell_type": "markdown",
   "id": "c9b39b88-54ba-44e2-b011-fe5b5f1dc064",
   "metadata": {},
   "source": [
    "Ans an expression is a combination of variables ,constants,operators,and function calls that can be evaluated  to produce a value.it represent a computation or a calculation in a programing language or mathematical context.\n",
    "symbols that perform specific operations on one or more operands to produce a result . ex arithmatic operators (+,-,*,/),compa operatorsrison(<,>,==),logical operators(&&,||),assihnment operators(=,+=,-=)"
   ]
  },
  {
   "cell_type": "markdown",
   "id": "8be7cf4a-fb43-41a7-a2e0-7a0665076420",
   "metadata": {},
   "source": [
    "Q5. this assignment statements like spam =10.what is the differnce between expression and statement?"
   ]
  },
  {
   "cell_type": "markdown",
   "id": "03d7d1f4-386a-4d97-a113-5ee1ca3f3bcc",
   "metadata": {},
   "source": [
    "Ans An expression is a combination of values ,varibles,operators and function calls that can be evaluated to produce a single value .expressions typically produce a result when they are executed Example 'spam=10'\n",
    "statement: a statement on the other hand is a complete instruction that performs a specific actio.it is a line code that carries out a tasks or changes the program state .assignment control structures (e.g,if else statement\n",
    "spam=10 the variable 'spam' is assigned the value '10'"
   ]
  },
  {
   "cell_type": "markdown",
   "id": "01b64e2f-5103-4a7d-934c-4dc075cacc42",
   "metadata": {},
   "source": [
    "Q 6. after running following code what does the variable bacon contain ?\n",
    "bacon=22\n",
    "bacon+1"
   ]
  },
  {
   "cell_type": "markdown",
   "id": "7772dbc6-05a6-4ea8-b0b0-3c29c2cad477",
   "metadata": {},
   "source": [
    "Ans after running the code the variable bacon would still contain the value 22.the line 'bacon +1 'does not modify the value of 'bacon'itself ;it simply adds 1to the value of 'bacon'in the expression.if you assign the result back to the variable 'bacon' like this :'bacon=bacon +1',then the value of bacon would be change to 23."
   ]
  },
  {
   "cell_type": "markdown",
   "id": "0ddba84f-b4d7-44f6-a490-5d148ed45730",
   "metadata": {},
   "source": [
    "Q 7. what should the values of the following two terms be?\n",
    "'spam'+'spamspam'\n",
    "'spam'*3"
   ]
  },
  {
   "cell_type": "markdown",
   "id": "b771bd6f-260a-4f8f-b7f7-bd157b57f624",
   "metadata": {},
   "source": [
    "Ans 1.'spam'+'spamspam': the operator '+'is used for concatenating strings .'spam'+'spamspam'would be result in the string 'spamspamspam'.\n",
    "2.'spam'*3\n",
    "    the operator '*'is used for repeating a string a certain number of times in this case 'spam'3would result in the string 'spamspamspam'"
   ]
  },
  {
   "cell_type": "markdown",
   "id": "a8d4c2b8-7e83-4114-8e55-8cd21b481925",
   "metadata": {},
   "source": [
    "Q 8.why is eggs a valid variable name while 100 is invalid?"
   ]
  },
  {
   "cell_type": "markdown",
   "id": "e11c74a9-d434-4e4d-b510-5f0aa3ae0305",
   "metadata": {},
   "source": [
    "Ans variable name can contains letters,numbers,and underscores:after the first character ,variables name ,variable names can include alphanumeric characters(letters and numbers)and underscore.for ex \"eggs\"is a valid variable name because it starts with a letter and contains only alphanumeric characters. "
   ]
  },
  {
   "cell_type": "markdown",
   "id": "f36cd00b-755f-4dba-aa45-089f74c7e041",
   "metadata": {},
   "source": [
    "Q 9.what three functions can be used to get the integer floating point number or string version of a value ?"
   ]
  },
  {
   "cell_type": "markdown",
   "id": "c4f0ee49-da80-4681-9ff4-c711edb4a4ac",
   "metadata": {},
   "source": [
    "Ans integer conversion:\n",
    "    function:'int()'\n",
    "    Example :'int(3.14)'would result in three '3'\n",
    "    function :'float()'\n",
    "    Example 'float(5.8\")'would be result in '5.8'\n",
    "    function \"'str()'\n",
    "    Examle 'str(42)'would be result in \"42\""
   ]
  },
  {
   "cell_type": "markdown",
   "id": "932f0adf-04d6-437a-ae3c-bee2b3a33a54",
   "metadata": {},
   "source": [
    "Q 10. why does this expression cause an error ?how can you fix it ?\n",
    "'I have eaten'+99+'burritos' "
   ]
  },
  {
   "cell_type": "markdown",
   "id": "6de0e83f-a648-4d05-a12a-68e80847e68b",
   "metadata": {},
   "source": [
    "Ans the expressions 'I have eaten '+99+'burritos.'causes an error because  it involves concatenating a string (' have eaten ')with a number (99)without converting the number to a string first .in many programing language\n",
    "you cannot directly concatenate different data types."
   ]
  },
  {
   "cell_type": "markdown",
   "id": "29c73f02-0ca4-4b3c-9395-4d0287630952",
   "metadata": {},
   "source": []
  }
 ],
 "metadata": {
  "kernelspec": {
   "display_name": "Python 3 (ipykernel)",
   "language": "python",
   "name": "python3"
  },
  "language_info": {
   "codemirror_mode": {
    "name": "ipython",
    "version": 3
   },
   "file_extension": ".py",
   "mimetype": "text/x-python",
   "name": "python",
   "nbconvert_exporter": "python",
   "pygments_lexer": "ipython3",
   "version": "3.10.6"
  }
 },
 "nbformat": 4,
 "nbformat_minor": 5
}
